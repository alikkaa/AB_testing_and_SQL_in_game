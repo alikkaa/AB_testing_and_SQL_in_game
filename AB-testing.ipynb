{
 "cells": [
  {
   "cell_type": "markdown",
   "id": "482333c3",
   "metadata": {},
   "source": [
    "# AB Test Score"
   ]
  },
  {
   "cell_type": "markdown",
   "id": "2ed015d6",
   "metadata": {},
   "source": [
    "I agree with the analyst that the conversion to the purchase of the set increased and the average income from player purchases also increased in the test group, where the price was $3. These results suggest that the new price was more attractive to users, which increased the number of purchases and overall purchase revenue in the first 3 days of a player's life. However, the “test group won” conclusion may be a little premature.\n",
    "\n",
    "To fully and objectively evaluate the results of the AB test, you should pay attention to several important aspects:\n",
    "\n",
    "``Statistical significance:`` The statistical significance of the results must be assessed. In this case, we have two samples (control and test groups), and we need to check if there is a statistically significant difference between the conversion and average revenue between the groups. This can be done using statistical tests such as the Z-test or t-test.\n",
    "\n",
    "``Test Duration:`` It is important to ensure that the test is run for a long enough time to account for seasonal influences, changes in user behavior over time, and overall stability of results.\n",
    "\n",
    "``Sample size:`` Sample size is also important for reliable results. The more users in each group, the more accurate the results will be.\n",
    "\n",
    "``Exploring Other Metrics:`` Of course, increasing conversion and average purchase revenue is important, but it's also worth considering other metrics such as user retention, LTV, ARPPU, etc. It's possible that lowering the price could impact user retention or overall revenue per player over the long term.\n",
    "\n",
    "``Repeated testing and validation:`` It is advisable to repeat tests at different times or on different user segments to confirm the stability of the results and validate them under different conditions.\n",
    "\n",
    "**How would I plan and score a test like this:**\n",
    "\n",
    "``Pre-planning:`` Determine the goals of the test and the hypotheses we want to test. Estimate the sample size required to achieve statistical significance. For example, increase the conversion rate for the purchase of a starter kit from new players and/or increase the average income from users during the first 3 days of life in the game.\n",
    "\n",
    "``Develop a test plan:`` Determine a test duration that will ensure statistical significance of the results and account for seasonal influences. This may take several weeks to provide sufficient data for analysis.\n",
    "\n",
    "``Divide into control and test groups:`` Randomly divide new players into two groups: control group and test group. Ensure that both groups are statistically similar and represent representative samples.\n",
    "\n",
    "``Statistical analysis:`` After completing the test, conduct a statistical analysis of the results. Use appropriate statistical tests (eg, Z-test or t-test) to determine the statistical significance of changes between the control and test groups.\n",
    "\n",
    "``Interpretation of results:`` Assess statistical significance and effect size of changes. Interpret results in light of test objectives and hypothesis. Check how much the changes affected conversion and average income.\n",
    "\n",
    "``Decision Making:`` Based on the test results and interpretation of the data, decide whether to keep the new set price or return to the old one.\n",
    "\n",
    "``Additional testing:`` It is important to remember that the results of a single test may be random or dependent on specific conditions. Repeated testing on different segments or at different times can help confirm the consistency of the results."
   ]
  },
  {
   "cell_type": "markdown",
   "id": "3dee36c8",
   "metadata": {},
   "source": [
    "# Creative task"
   ]
  },
  {
   "cell_type": "markdown",
   "id": "406b737c",
   "metadata": {},
   "source": [
    "``Condition:``\n",
    "You work as an analyst on an established casual project. It has regular updates, live-ops, and discounts. Monetization of the project is based on advertising and in-app purchases. The project's audience is large and there is also a constant influx of new users due to the work of the marketing department. Suddenly something happened on the project. We see that according to our analytics system, over the last week, total income decreased by 20%. The analytics department is faced with the task of figuring out what's going on. Describe in free form the algorithm of your actions, what hypotheses will you test and what indicators will you look at?"
   ]
  },
  {
   "cell_type": "markdown",
   "id": "26bd55cc",
   "metadata": {},
   "source": [
    "If a product has experienced a decrease in revenue, internal product factors must be considered first.\n",
    "Possible hypotheses for reducing revenue - problems with balance, separately broken down by factors, separately looked at by new/current players, etc."
   ]
  },
  {
   "cell_type": "markdown",
   "id": "4ceb8d75",
   "metadata": {},
   "source": [
    "### 1. Check data and trends\n",
    "\n",
    "Review total revenue over the past few months or quarters to determine if there have been similar declines previously and if there is any seasonality.\n",
    "Review user activity metrics such as DAU (daily active users), WAU (weekly active users), and MAU (monthly active users) to ensure that the decline in revenue is not due to an overall decline in the user base.\n",
    "Review advertising revenue and in-app purchase reports to determine which revenue streams have experienced a decline."
   ]
  },
  {
   "cell_type": "markdown",
   "id": "eba5e908",
   "metadata": {},
   "source": [
    "### 2. Breakdown of income by factors\n",
    "\n",
    "View advertising revenue and in-app purchase revenue separately. If the decrease in income is due to only one of these sources, it can help to know in which area to look for reasons for the decrease.\n",
    "Analyze revenue from new users and revenue from existing users separately to determine if there are differences in the behavior of new and old users."
   ]
  },
  {
   "cell_type": "markdown",
   "id": "c896106b",
   "metadata": {},
   "source": [
    "### 3. Research of product factors\n",
    "\n",
    "Evaluate events and changes to the product that have occurred over the past week. This may include updates, game balance changes, new features, live-ops events and discounts.\n",
    "Analyze data on average session time and latency between sessions to determine whether product changes may have impacted user retention."
   ]
  },
  {
   "cell_type": "markdown",
   "id": "f6d09502",
   "metadata": {},
   "source": [
    "### 4. User behavior research\n",
    "\n",
    "Analyze the conversion funnel to find out at what stage users began to leave most often. This will help identify possible problematic issues in the user experience.\n",
    "Research user engagement levels, such as the frequency of actions taken and interactions with various elements of the app, to determine if there are changes in user behavior that could impact revenue."
   ]
  },
  {
   "cell_type": "markdown",
   "id": "a77538b1",
   "metadata": {},
   "source": [
    "### 5. Formulating hypotheses\n",
    "\n",
    "Based on the analysis, formulate hypotheses that could explain the decrease in income. For example:\n",
    "Hypothesis 1: Changes in game balance led to user dissatisfaction and departure.\n",
    "Hypothesis 2: Live-ops events did not attract enough users to participate and make purchases.\n",
    "Hypothesis 3: Competitive products offered more attractive discounts or features."
   ]
  },
  {
   "cell_type": "markdown",
   "id": "24659a20",
   "metadata": {},
   "source": [
    "### 6. Testing hypotheses\n",
    "\n",
    "Develop tests to test each of the stated hypotheses and find out which of them is the most likely cause of the decrease in income.\n",
    "You can use A/B testing or other testing methods to compare different product options and evaluate their impact on user behavior and revenue."
   ]
  },
  {
   "cell_type": "markdown",
   "id": "9395c18b",
   "metadata": {},
   "source": [
    "### 7. Taking action and monitoring\n",
    "\n",
    "Implement changes based on the identified reasons for the decrease in income.\n",
    "After implementing measures, regularly monitor revenue and key metrics to ensure the effectiveness of the decisions made."
   ]
  }
 ],
 "metadata": {
  "kernelspec": {
   "display_name": "Python 3",
   "language": "python",
   "name": "python3"
  },
  "language_info": {
   "codemirror_mode": {
    "name": "ipython",
    "version": 3
   },
   "file_extension": ".py",
   "mimetype": "text/x-python",
   "name": "python",
   "nbconvert_exporter": "python",
   "pygments_lexer": "ipython3",
   "version": "3.8.8"
  }
 },
 "nbformat": 4,
 "nbformat_minor": 5
}
